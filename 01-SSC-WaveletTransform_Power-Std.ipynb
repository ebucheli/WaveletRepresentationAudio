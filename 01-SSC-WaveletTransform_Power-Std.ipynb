{
 "cells": [
  {
   "cell_type": "markdown",
   "metadata": {},
   "source": [
    "# Wavelet Transform Resolution Power"
   ]
  },
  {
   "cell_type": "markdown",
   "metadata": {},
   "source": [
    "In this example we take the wavelet transform of the input signal using a Daubechies-4 tap filter and for every resolution we find the square power."
   ]
  },
  {
   "cell_type": "code",
   "execution_count": 1,
   "metadata": {},
   "outputs": [],
   "source": [
    "import matplotlib.pyplot as plt\n",
    "import numpy as np\n",
    "from IPython.display import Audio\n",
    "import librosa\n",
    "import librosa.display\n",
    "import pywt"
   ]
  },
  {
   "cell_type": "code",
   "execution_count": 2,
   "metadata": {},
   "outputs": [],
   "source": [
    "from SimpleSpeechCommands import get_word_dict, read_list, load_data\n",
    "from SimpleSpeechCommands import append_examples,partition_directory, reduce_examples"
   ]
  },
  {
   "cell_type": "code",
   "execution_count": 3,
   "metadata": {},
   "outputs": [],
   "source": [
    "word_to_label,label_to_word = get_word_dict()\n",
    "path_dataset = '/home/edoardobucheli/TFSpeechCommands/train/audio'\n",
    "#path_dataset = '/Users/edoardobucheli/Documents/MCC/Tesis/Kaggle_SpeechCommands/train/audio'\n",
    "sr = 16000\n",
    "file_length = 16000"
   ]
  },
  {
   "cell_type": "markdown",
   "metadata": {},
   "source": [
    "Load Data"
   ]
  },
  {
   "cell_type": "code",
   "execution_count": 4,
   "metadata": {},
   "outputs": [],
   "source": [
    "training_files = read_list(path_dataset,'training_files.txt')\n",
    "validation_files = read_list(path_dataset,'validation_files.txt')\n",
    "testing_files = read_list(path_dataset,'testing_files.txt')"
   ]
  },
  {
   "cell_type": "markdown",
   "metadata": {},
   "source": [
    "We will work only with 10 known commands, no unknown."
   ]
  },
  {
   "cell_type": "code",
   "execution_count": 5,
   "metadata": {},
   "outputs": [],
   "source": [
    "training_files = reduce_examples(training_files,10,0,word_to_label)\n",
    "validation_files = reduce_examples(validation_files,10,0,word_to_label)\n",
    "testing_files = reduce_examples(testing_files,10,0,word_to_label)"
   ]
  },
  {
   "cell_type": "code",
   "execution_count": 6,
   "metadata": {},
   "outputs": [
    {
     "name": "stderr",
     "output_type": "stream",
     "text": [
      "100%|██████████| 18538/18538 [00:06<00:00, 2999.09it/s]\n",
      "100%|██████████| 2577/2577 [00:00<00:00, 3056.57it/s]\n",
      "100%|██████████| 2567/2567 [00:00<00:00, 3021.32it/s]\n"
     ]
    }
   ],
   "source": [
    "x_train,y_train = load_data(training_files,sr,file_length,path_dataset,word_to_label)\n",
    "x_val,y_val = load_data(validation_files,sr,file_length,path_dataset,word_to_label)\n",
    "x_test,y_test = load_data(testing_files,sr,file_length,path_dataset,word_to_label)"
   ]
  },
  {
   "cell_type": "code",
   "execution_count": 7,
   "metadata": {},
   "outputs": [
    {
     "name": "stdout",
     "output_type": "stream",
     "text": [
      "(18538, 16000)\n",
      "(18538,)\n",
      "(2577, 16000)\n",
      "(2577,)\n",
      "(2567, 16000)\n",
      "(2567,)\n"
     ]
    }
   ],
   "source": [
    "print(x_train.shape)\n",
    "print(y_train.shape)\n",
    "print(x_val.shape)\n",
    "print(y_val.shape)\n",
    "print(x_test.shape)\n",
    "print(y_test.shape)"
   ]
  },
  {
   "cell_type": "markdown",
   "metadata": {},
   "source": [
    "### Preprocess Data"
   ]
  },
  {
   "cell_type": "code",
   "execution_count": 8,
   "metadata": {},
   "outputs": [],
   "source": [
    "from pywt import wavedec\n",
    "from tqdm import tqdm"
   ]
  },
  {
   "cell_type": "code",
   "execution_count": 9,
   "metadata": {},
   "outputs": [],
   "source": [
    "test = wavedec(x_train[0],'db4')\n",
    "level = len(test)"
   ]
  },
  {
   "cell_type": "code",
   "execution_count": 14,
   "metadata": {},
   "outputs": [
    {
     "name": "stderr",
     "output_type": "stream",
     "text": [
      "100%|██████████| 18538/18538 [00:13<00:00, 1387.60it/s]\n"
     ]
    }
   ],
   "source": [
    "x_train_2 = np.zeros((len(x_train),level*2))\n",
    "\n",
    "for i, wave in enumerate(tqdm(x_train)):\n",
    "    \n",
    "    wt_this =  wavedec(wave,'db4')\n",
    "    \n",
    "    for j,band in enumerate(wt_this):\n",
    "        \n",
    "        band /= np.max(np.abs(band))\n",
    "        \n",
    "        this_pow = np.sum(np.square(band))\n",
    "        this_std = np.std(band)\n",
    "        \n",
    "        x_train_2[i,j] = this_pow\n",
    "        x_train_2[i,j+level] = this_std"
   ]
  },
  {
   "cell_type": "code",
   "execution_count": 15,
   "metadata": {},
   "outputs": [
    {
     "name": "stderr",
     "output_type": "stream",
     "text": [
      "100%|██████████| 2577/2577 [00:01<00:00, 1406.55it/s]\n"
     ]
    }
   ],
   "source": [
    "x_val_2 = np.zeros((len(x_val),level*2))\n",
    "\n",
    "for i, wave in enumerate(tqdm(x_val)):\n",
    "    \n",
    "    wt_this =  wavedec(wave,'db4')\n",
    "    \n",
    "    for j,band in enumerate(wt_this):\n",
    "        \n",
    "        band /= np.max(np.abs(band))\n",
    "        \n",
    "        this_pow = np.sum(np.square(band))\n",
    "        this_std = np.std(band)\n",
    "        \n",
    "        x_val_2[i,j] = this_pow\n",
    "        x_val_2[i,j+level] = this_std"
   ]
  },
  {
   "cell_type": "code",
   "execution_count": 16,
   "metadata": {},
   "outputs": [
    {
     "name": "stderr",
     "output_type": "stream",
     "text": [
      "100%|██████████| 2567/2567 [00:01<00:00, 1337.24it/s]\n"
     ]
    }
   ],
   "source": [
    "x_test_2 = np.zeros((len(x_test),level*2))\n",
    "\n",
    "for i, wave in enumerate(tqdm(x_test)):\n",
    "    \n",
    "    wt_this =  wavedec(wave,'db4')\n",
    "    \n",
    "    for j,band in enumerate(wt_this):\n",
    "        \n",
    "        band /= np.max(np.abs(band))\n",
    "        \n",
    "        this_pow = np.sum(np.square(band))\n",
    "        this_std = np.std(band)\n",
    "        \n",
    "        x_test_2[i,j] = this_pow\n",
    "        x_test_2[i,j+level] = this_std"
   ]
  },
  {
   "cell_type": "markdown",
   "metadata": {},
   "source": [
    "## Other Processing"
   ]
  },
  {
   "cell_type": "markdown",
   "metadata": {},
   "source": [
    "Create One-Hot Encoding"
   ]
  },
  {
   "cell_type": "code",
   "execution_count": 17,
   "metadata": {},
   "outputs": [],
   "source": [
    "from Utilities import make_oh"
   ]
  },
  {
   "cell_type": "code",
   "execution_count": 18,
   "metadata": {},
   "outputs": [],
   "source": [
    "N_train, _ = x_train_2.shape\n",
    "N_val, _ = x_val_2.shape\n",
    "N_test, _ = x_test_2.shape\n",
    "\n",
    "n_classes = len(np.unique(y_train))"
   ]
  },
  {
   "cell_type": "code",
   "execution_count": 19,
   "metadata": {},
   "outputs": [],
   "source": [
    "y_train_oh = make_oh(y_train)\n",
    "y_val_oh = make_oh(y_val)\n",
    "y_test_oh = make_oh(y_test)"
   ]
  },
  {
   "cell_type": "code",
   "execution_count": 20,
   "metadata": {},
   "outputs": [
    {
     "name": "stdout",
     "output_type": "stream",
     "text": [
      "(18538, 24)\n",
      "(18538, 10)\n",
      "(2577, 24)\n",
      "(2577, 10)\n",
      "(2567, 24)\n",
      "(2567, 10)\n"
     ]
    }
   ],
   "source": [
    "print(x_train_2.shape)\n",
    "print(y_train_oh.shape)\n",
    "print(x_val_2.shape)\n",
    "print(y_val_oh.shape)\n",
    "print(x_test_2.shape)\n",
    "print(y_test_oh.shape)"
   ]
  },
  {
   "cell_type": "markdown",
   "metadata": {},
   "source": [
    "## Multi Layer Perceptron"
   ]
  },
  {
   "cell_type": "code",
   "execution_count": 21,
   "metadata": {},
   "outputs": [],
   "source": [
    "from tensorflow.keras.layers import Dropout, Dense, Input\n",
    "from tensorflow.keras.models import Model\n",
    "from tensorflow.keras.optimizers import Adam"
   ]
  },
  {
   "cell_type": "code",
   "execution_count": 36,
   "metadata": {},
   "outputs": [],
   "source": [
    "def DNN_3HL(input_shape,n_classes):\n",
    "    X_input = Input(input_shape)\n",
    "        \n",
    "    X = Dense(64,activation='sigmoid')(X_input)\n",
    "    \n",
    "    X = Dense(64,activation='sigmoid')(X)\n",
    "    \n",
    "    X = Dense(n_classes,activation='softmax')(X)\n",
    "    \n",
    "    model = Model(inputs = X_input, outputs= X)\n",
    "    \n",
    "    return model"
   ]
  },
  {
   "cell_type": "code",
   "execution_count": 37,
   "metadata": {},
   "outputs": [],
   "source": [
    "input_shape = (level*2,)\n",
    "lr = 0.01"
   ]
  },
  {
   "cell_type": "code",
   "execution_count": 38,
   "metadata": {},
   "outputs": [
    {
     "name": "stdout",
     "output_type": "stream",
     "text": [
      "_________________________________________________________________\n",
      "Layer (type)                 Output Shape              Param #   \n",
      "=================================================================\n",
      "input_5 (InputLayer)         (None, 24)                0         \n",
      "_________________________________________________________________\n",
      "dense_8 (Dense)              (None, 64)                1600      \n",
      "_________________________________________________________________\n",
      "dense_9 (Dense)              (None, 64)                4160      \n",
      "_________________________________________________________________\n",
      "dense_10 (Dense)             (None, 10)                650       \n",
      "=================================================================\n",
      "Total params: 6,410\n",
      "Trainable params: 6,410\n",
      "Non-trainable params: 0\n",
      "_________________________________________________________________\n"
     ]
    }
   ],
   "source": [
    "model1 = DNN_3HL(input_shape, n_classes)\n",
    "model1.summary()"
   ]
  },
  {
   "cell_type": "code",
   "execution_count": 39,
   "metadata": {},
   "outputs": [],
   "source": [
    "model1.compile(optimizer=Adam(lr),loss='categorical_crossentropy',metrics = ['accuracy'])"
   ]
  },
  {
   "cell_type": "code",
   "execution_count": 40,
   "metadata": {},
   "outputs": [
    {
     "name": "stdout",
     "output_type": "stream",
     "text": [
      "Train on 18538 samples, validate on 2577 samples\n",
      "Epoch 1/50\n",
      "18538/18538 [==============================] - 0s 18us/step - loss: 2.0409 - acc: 0.2685 - val_loss: 1.9445 - val_acc: 0.3116\n",
      "Epoch 2/50\n",
      "18538/18538 [==============================] - 0s 7us/step - loss: 1.8541 - acc: 0.3468 - val_loss: 1.8459 - val_acc: 0.3489\n",
      "Epoch 3/50\n",
      "18538/18538 [==============================] - 0s 8us/step - loss: 1.8125 - acc: 0.3613 - val_loss: 1.8076 - val_acc: 0.3671\n",
      "Epoch 4/50\n",
      "18538/18538 [==============================] - 0s 7us/step - loss: 1.7895 - acc: 0.3721 - val_loss: 1.8046 - val_acc: 0.3760\n",
      "Epoch 5/50\n",
      "18538/18538 [==============================] - 0s 7us/step - loss: 1.7641 - acc: 0.3825 - val_loss: 1.7792 - val_acc: 0.3714\n",
      "Epoch 6/50\n",
      "18538/18538 [==============================] - 0s 7us/step - loss: 1.7507 - acc: 0.3847 - val_loss: 1.7939 - val_acc: 0.3636\n",
      "Epoch 7/50\n",
      "18538/18538 [==============================] - 0s 8us/step - loss: 1.7439 - acc: 0.3909 - val_loss: 1.7703 - val_acc: 0.3815\n",
      "Epoch 8/50\n",
      "18538/18538 [==============================] - 0s 7us/step - loss: 1.7480 - acc: 0.3826 - val_loss: 1.7694 - val_acc: 0.3795\n",
      "Epoch 9/50\n",
      "18538/18538 [==============================] - 0s 7us/step - loss: 1.7287 - acc: 0.3927 - val_loss: 1.7749 - val_acc: 0.3834\n",
      "Epoch 10/50\n",
      "18538/18538 [==============================] - 0s 7us/step - loss: 1.7310 - acc: 0.3889 - val_loss: 1.7752 - val_acc: 0.3760\n",
      "Epoch 11/50\n",
      "18538/18538 [==============================] - 0s 8us/step - loss: 1.7271 - acc: 0.3919 - val_loss: 1.7611 - val_acc: 0.3865\n",
      "Epoch 12/50\n",
      "18538/18538 [==============================] - 0s 8us/step - loss: 1.7313 - acc: 0.3907 - val_loss: 1.7855 - val_acc: 0.3714\n",
      "Epoch 13/50\n",
      "18538/18538 [==============================] - 0s 9us/step - loss: 1.7280 - acc: 0.3963 - val_loss: 1.7721 - val_acc: 0.3733\n",
      "Epoch 14/50\n",
      "18538/18538 [==============================] - 0s 8us/step - loss: 1.7156 - acc: 0.3953 - val_loss: 1.7889 - val_acc: 0.3671\n",
      "Epoch 15/50\n",
      "18538/18538 [==============================] - 0s 7us/step - loss: 1.7204 - acc: 0.3960 - val_loss: 1.7563 - val_acc: 0.3869\n",
      "Epoch 16/50\n",
      "18538/18538 [==============================] - 0s 7us/step - loss: 1.7011 - acc: 0.3992 - val_loss: 1.7430 - val_acc: 0.3880\n",
      "Epoch 17/50\n",
      "18538/18538 [==============================] - 0s 7us/step - loss: 1.7070 - acc: 0.3996 - val_loss: 1.7494 - val_acc: 0.3919\n",
      "Epoch 18/50\n",
      "18538/18538 [==============================] - 0s 7us/step - loss: 1.7091 - acc: 0.3998 - val_loss: 1.7580 - val_acc: 0.3787\n",
      "Epoch 19/50\n",
      "18538/18538 [==============================] - 0s 8us/step - loss: 1.6995 - acc: 0.4006 - val_loss: 1.7466 - val_acc: 0.3904\n",
      "Epoch 20/50\n",
      "18538/18538 [==============================] - 0s 8us/step - loss: 1.7071 - acc: 0.3976 - val_loss: 1.7901 - val_acc: 0.3807\n",
      "Epoch 21/50\n",
      "18538/18538 [==============================] - 0s 9us/step - loss: 1.7035 - acc: 0.3956 - val_loss: 1.7420 - val_acc: 0.3846\n",
      "Epoch 22/50\n",
      "18538/18538 [==============================] - 0s 8us/step - loss: 1.6960 - acc: 0.4002 - val_loss: 1.7621 - val_acc: 0.3842\n",
      "Epoch 23/50\n",
      "18538/18538 [==============================] - 0s 8us/step - loss: 1.6944 - acc: 0.4013 - val_loss: 1.7386 - val_acc: 0.3869\n",
      "Epoch 24/50\n",
      "18538/18538 [==============================] - 0s 9us/step - loss: 1.6927 - acc: 0.4030 - val_loss: 1.7451 - val_acc: 0.3923\n",
      "Epoch 25/50\n",
      "18538/18538 [==============================] - 0s 8us/step - loss: 1.6941 - acc: 0.4027 - val_loss: 1.7604 - val_acc: 0.3799\n",
      "Epoch 26/50\n",
      "18538/18538 [==============================] - 0s 9us/step - loss: 1.6894 - acc: 0.4012 - val_loss: 1.7623 - val_acc: 0.3877\n",
      "Epoch 27/50\n",
      "18538/18538 [==============================] - 0s 8us/step - loss: 1.6807 - acc: 0.4045 - val_loss: 1.7428 - val_acc: 0.3896\n",
      "Epoch 28/50\n",
      "18538/18538 [==============================] - 0s 8us/step - loss: 1.6777 - acc: 0.4030 - val_loss: 1.7556 - val_acc: 0.3888\n",
      "Epoch 29/50\n",
      "18538/18538 [==============================] - 0s 8us/step - loss: 1.6761 - acc: 0.4045 - val_loss: 1.7488 - val_acc: 0.3799\n",
      "Epoch 30/50\n",
      "18538/18538 [==============================] - 0s 7us/step - loss: 1.6812 - acc: 0.4077 - val_loss: 1.7432 - val_acc: 0.3919\n",
      "Epoch 31/50\n",
      "18538/18538 [==============================] - 0s 8us/step - loss: 1.6770 - acc: 0.4076 - val_loss: 1.7506 - val_acc: 0.3849\n",
      "Epoch 32/50\n",
      "18538/18538 [==============================] - 0s 8us/step - loss: 1.6746 - acc: 0.4068 - val_loss: 1.7431 - val_acc: 0.3861\n",
      "Epoch 33/50\n",
      "18538/18538 [==============================] - 0s 8us/step - loss: 1.6766 - acc: 0.4082 - val_loss: 1.7577 - val_acc: 0.3904\n",
      "Epoch 34/50\n",
      "18538/18538 [==============================] - 0s 7us/step - loss: 1.6708 - acc: 0.4074 - val_loss: 1.7617 - val_acc: 0.3768\n",
      "Epoch 35/50\n",
      "18538/18538 [==============================] - 0s 7us/step - loss: 1.6636 - acc: 0.4138 - val_loss: 1.7432 - val_acc: 0.3842\n",
      "Epoch 36/50\n",
      "18538/18538 [==============================] - 0s 7us/step - loss: 1.6672 - acc: 0.4081 - val_loss: 1.7512 - val_acc: 0.3849\n",
      "Epoch 37/50\n",
      "18538/18538 [==============================] - 0s 7us/step - loss: 1.6675 - acc: 0.4110 - val_loss: 1.7286 - val_acc: 0.3931\n",
      "Epoch 38/50\n",
      "18538/18538 [==============================] - 0s 7us/step - loss: 1.6556 - acc: 0.4148 - val_loss: 1.7616 - val_acc: 0.3822\n",
      "Epoch 39/50\n",
      "18538/18538 [==============================] - 0s 7us/step - loss: 1.6694 - acc: 0.4061 - val_loss: 1.7427 - val_acc: 0.3892\n",
      "Epoch 40/50\n",
      "18538/18538 [==============================] - 0s 8us/step - loss: 1.6654 - acc: 0.4137 - val_loss: 1.7477 - val_acc: 0.3919\n",
      "Epoch 41/50\n",
      "18538/18538 [==============================] - 0s 8us/step - loss: 1.6574 - acc: 0.4147 - val_loss: 1.7760 - val_acc: 0.3729\n",
      "Epoch 42/50\n",
      "18538/18538 [==============================] - 0s 7us/step - loss: 1.6608 - acc: 0.4147 - val_loss: 1.7534 - val_acc: 0.3880\n",
      "Epoch 43/50\n",
      "18538/18538 [==============================] - 0s 7us/step - loss: 1.6534 - acc: 0.4132 - val_loss: 1.7419 - val_acc: 0.3970\n",
      "Epoch 44/50\n",
      "18538/18538 [==============================] - 0s 7us/step - loss: 1.6553 - acc: 0.4125 - val_loss: 1.7376 - val_acc: 0.3908\n",
      "Epoch 45/50\n",
      "18538/18538 [==============================] - 0s 7us/step - loss: 1.6585 - acc: 0.4121 - val_loss: 1.7641 - val_acc: 0.3884\n",
      "Epoch 46/50\n",
      "18538/18538 [==============================] - 0s 7us/step - loss: 1.6658 - acc: 0.4104 - val_loss: 1.7493 - val_acc: 0.3807\n",
      "Epoch 47/50\n",
      "18538/18538 [==============================] - 0s 7us/step - loss: 1.6587 - acc: 0.4155 - val_loss: 1.7466 - val_acc: 0.3853\n",
      "Epoch 48/50\n",
      "18538/18538 [==============================] - 0s 7us/step - loss: 1.6608 - acc: 0.4127 - val_loss: 1.7619 - val_acc: 0.3857\n",
      "Epoch 49/50\n",
      "18538/18538 [==============================] - 0s 8us/step - loss: 1.6519 - acc: 0.4155 - val_loss: 1.7575 - val_acc: 0.3861\n",
      "Epoch 50/50\n",
      "18538/18538 [==============================] - 0s 8us/step - loss: 1.6495 - acc: 0.4143 - val_loss: 1.7493 - val_acc: 0.3853\n"
     ]
    },
    {
     "data": {
      "text/plain": [
       "<tensorflow.python.keras.callbacks.History at 0x7f2df47d27f0>"
      ]
     },
     "execution_count": 40,
     "metadata": {},
     "output_type": "execute_result"
    }
   ],
   "source": [
    "model1.fit(x_train_2,y_train_oh,\n",
    "           batch_size=256, epochs = 50,\n",
    "           validation_data=[x_val_2,y_val_oh],\n",
    "           shuffle=True,verbose = 1)"
   ]
  },
  {
   "cell_type": "markdown",
   "metadata": {},
   "source": [
    "## Random Forest"
   ]
  },
  {
   "cell_type": "code",
   "execution_count": 41,
   "metadata": {},
   "outputs": [],
   "source": [
    "from sklearn.ensemble import RandomForestClassifier"
   ]
  },
  {
   "cell_type": "code",
   "execution_count": 42,
   "metadata": {},
   "outputs": [
    {
     "name": "stderr",
     "output_type": "stream",
     "text": [
      "/home/edoardobucheli/anaconda3/envs/tf-gpu/lib/python3.6/site-packages/sklearn/ensemble/forest.py:246: FutureWarning: The default value of n_estimators will change from 10 in version 0.20 to 100 in 0.22.\n",
      "  \"10 in version 0.20 to 100 in 0.22.\", FutureWarning)\n"
     ]
    },
    {
     "data": {
      "text/plain": [
       "RandomForestClassifier(bootstrap=True, class_weight=None, criterion='gini',\n",
       "            max_depth=None, max_features='auto', max_leaf_nodes=None,\n",
       "            min_impurity_decrease=0.0, min_impurity_split=None,\n",
       "            min_samples_leaf=1, min_samples_split=2,\n",
       "            min_weight_fraction_leaf=0.0, n_estimators=10, n_jobs=None,\n",
       "            oob_score=False, random_state=None, verbose=0,\n",
       "            warm_start=False)"
      ]
     },
     "execution_count": 42,
     "metadata": {},
     "output_type": "execute_result"
    }
   ],
   "source": [
    "clf = RandomForestClassifier()\n",
    "clf.fit(x_train_2,y_train)"
   ]
  },
  {
   "cell_type": "code",
   "execution_count": 43,
   "metadata": {},
   "outputs": [
    {
     "data": {
      "text/plain": [
       "0.32945285215366704"
      ]
     },
     "execution_count": 43,
     "metadata": {},
     "output_type": "execute_result"
    }
   ],
   "source": [
    "clf.score(x_val_2,y_val)"
   ]
  },
  {
   "cell_type": "markdown",
   "metadata": {},
   "source": [
    "## GB Classifier"
   ]
  },
  {
   "cell_type": "code",
   "execution_count": 44,
   "metadata": {},
   "outputs": [],
   "source": [
    "from sklearn.ensemble import GradientBoostingClassifier"
   ]
  },
  {
   "cell_type": "code",
   "execution_count": 45,
   "metadata": {},
   "outputs": [
    {
     "data": {
      "text/plain": [
       "GradientBoostingClassifier(criterion='friedman_mse', init=None,\n",
       "              learning_rate=0.1, loss='deviance', max_depth=3,\n",
       "              max_features=None, max_leaf_nodes=None,\n",
       "              min_impurity_decrease=0.0, min_impurity_split=None,\n",
       "              min_samples_leaf=1, min_samples_split=2,\n",
       "              min_weight_fraction_leaf=0.0, n_estimators=100,\n",
       "              n_iter_no_change=None, presort='auto', random_state=None,\n",
       "              subsample=1.0, tol=0.0001, validation_fraction=0.1,\n",
       "              verbose=0, warm_start=False)"
      ]
     },
     "execution_count": 45,
     "metadata": {},
     "output_type": "execute_result"
    }
   ],
   "source": [
    "clfgb = GradientBoostingClassifier()\n",
    "clfgb.fit(x_train_2,y_train)"
   ]
  },
  {
   "cell_type": "code",
   "execution_count": 46,
   "metadata": {},
   "outputs": [
    {
     "data": {
      "text/plain": [
       "0.3942568878540939"
      ]
     },
     "execution_count": 46,
     "metadata": {},
     "output_type": "execute_result"
    }
   ],
   "source": [
    "clfgb.score(x_val_2,y_val)"
   ]
  },
  {
   "cell_type": "code",
   "execution_count": null,
   "metadata": {},
   "outputs": [],
   "source": []
  }
 ],
 "metadata": {
  "kernelspec": {
   "display_name": "Python 3",
   "language": "python",
   "name": "python3"
  },
  "language_info": {
   "codemirror_mode": {
    "name": "ipython",
    "version": 3
   },
   "file_extension": ".py",
   "mimetype": "text/x-python",
   "name": "python",
   "nbconvert_exporter": "python",
   "pygments_lexer": "ipython3",
   "version": "3.6.7"
  }
 },
 "nbformat": 4,
 "nbformat_minor": 2
}
